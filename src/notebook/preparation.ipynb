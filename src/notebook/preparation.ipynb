{
 "cells": [
  {
   "cell_type": "code",
   "execution_count": 46,
   "outputs": [],
   "source": [
    "import datetime\n",
    "from functools import reduce\n",
    "import locale\n",
    "import json\n",
    "import pandas as pd"
   ],
   "metadata": {
    "collapsed": false,
    "pycharm": {
     "name": "#%%\n"
    }
   }
  },
  {
   "cell_type": "code",
   "execution_count": 70,
   "outputs": [],
   "source": [
    "df = pd.read_json('../../data/raw/awl.json')\n"
   ],
   "metadata": {
    "collapsed": false,
    "pycharm": {
     "name": "#%%\n"
    }
   }
  },
  {
   "cell_type": "markdown",
   "source": [
    "### Added date"
   ],
   "metadata": {
    "collapsed": false
   }
  },
  {
   "cell_type": "code",
   "execution_count": 72,
   "outputs": [],
   "source": [
    "# set locale to extract month number from its portuguese name\n",
    "locale.setlocale(locale.LC_TIME, \"pt_BR\")\n",
    "pattern = 'Item\\ adicionado\\ (..?)\\ de\\ (\\w*)\\ de\\ (....)'\n",
    "\n",
    "def concat_date(x, y):\n",
    "  return '/'.join([str(x), str(datetime.datetime.strptime(y, '%B').month if len(x) <= 2 else str(y))])\n",
    "\n",
    "df['added_date'] = [reduce(concat_date, row) for row in df['added_date'].str.extract(pattern).values.tolist()]"
   ],
   "metadata": {
    "collapsed": false,
    "pycharm": {
     "name": "#%%\n"
    }
   }
  },
  {
   "cell_type": "markdown",
   "source": [
    "### Review stars"
   ],
   "metadata": {
    "collapsed": false
   }
  },
  {
   "cell_type": "code",
   "execution_count": 74,
   "outputs": [],
   "source": [
    "pattern = '(.\\..)\\ .*'\n",
    "df['review_stars'] = df['review_stars'].str.extract(pattern)"
   ],
   "metadata": {
    "collapsed": false,
    "pycharm": {
     "name": "#%%\n"
    }
   }
  },
  {
   "cell_type": "markdown",
   "source": [
    "### Total price"
   ],
   "metadata": {
    "collapsed": false
   }
  },
  {
   "cell_type": "code",
   "execution_count": 97,
   "outputs": [],
   "source": [
    "# neither sold by Amazon nor external sellers\n",
    "filter = (df['price'].isna()) & (df['sellers_price'].isna())\n",
    "df.loc[filter, 'total_price'] = -1\n",
    "\n",
    "# only sold by external sellers (might apply not tracked delivery tax)\n",
    "filter = (df['price'].isna()) & (~df['sellers_price'].isna())\n",
    "df.loc[filter, 'total_price'] = df['sellers_price']\n",
    "\n",
    "# sold by Amazon without free shipping\n",
    "filter = (~df['price'].isna()) & (~df['delivery_price'].isna())\n",
    "df.loc[filter, 'total_price'] = df['price'] + df['delivery_price']\n",
    "\n",
    "# sold by Amazon with free shipping\n",
    "filter = (~df['price'].isna()) & (df['delivery_price'].isna())\n",
    "df.loc[filter, 'total_price'] = df['price']"
   ],
   "metadata": {
    "collapsed": false,
    "pycharm": {
     "name": "#%%\n"
    }
   }
  },
  {
   "cell_type": "markdown",
   "source": [
    "### Availability"
   ],
   "metadata": {
    "collapsed": false
   }
  },
  {
   "cell_type": "code",
   "execution_count": 99,
   "outputs": [],
   "source": [
    "# df['availability'].loc[~df['availability'].isnull()] = 1\n",
    "# df['availability'].fillna(0, inplace=True)\n",
    "df['availability'] = 1\n",
    "filter = (df['total_price'] == -1.0)\n",
    "df.loc[filter, 'availability'] = 0"
   ],
   "metadata": {
    "collapsed": false,
    "pycharm": {
     "name": "#%%\n"
    }
   }
  },
  {
   "cell_type": "markdown",
   "source": [
    "### Reference date"
   ],
   "metadata": {
    "collapsed": false,
    "pycharm": {
     "name": "#%% md\n"
    }
   }
  },
  {
   "cell_type": "code",
   "execution_count": 101,
   "outputs": [],
   "source": [
    "df['reference_date'] = datetime.datetime.now()\n"
   ],
   "metadata": {
    "collapsed": false,
    "pycharm": {
     "name": "#%%\n"
    }
   }
  },
  {
   "cell_type": "markdown",
   "source": [
    "### Output csv"
   ],
   "metadata": {
    "collapsed": false,
    "pycharm": {
     "name": "#%% md\n"
    }
   }
  },
  {
   "cell_type": "code",
   "execution_count": 102,
   "outputs": [],
   "source": [
    "df.to_csv('../../data/preparation/preparation.csv', sep=';', index=False, mode='a', header='false')"
   ],
   "metadata": {
    "collapsed": false,
    "pycharm": {
     "name": "#%%\n"
    }
   }
  }
 ],
 "metadata": {
  "kernelspec": {
   "display_name": "Python 3",
   "language": "python",
   "name": "python3"
  },
  "language_info": {
   "codemirror_mode": {
    "name": "ipython",
    "version": 2
   },
   "file_extension": ".py",
   "mimetype": "text/x-python",
   "name": "python",
   "nbconvert_exporter": "python",
   "pygments_lexer": "ipython2",
   "version": "2.7.6"
  }
 },
 "nbformat": 4,
 "nbformat_minor": 0
}