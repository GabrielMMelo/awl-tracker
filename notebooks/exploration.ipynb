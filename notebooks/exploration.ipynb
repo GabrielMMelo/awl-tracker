{
 "cells": [
  {
   "cell_type": "code",
   "execution_count": 1,
   "metadata": {
    "collapsed": true
   },
   "outputs": [],
   "source": [
    "import json\n",
    "import pandas as pd"
   ]
  },
  {
   "cell_type": "code",
   "execution_count": 4,
   "outputs": [],
   "source": [
    "df = pd.read_json('../../data/raw/awl.json')\n"
   ],
   "metadata": {
    "collapsed": false,
    "pycharm": {
     "name": "#%%\n"
    }
   }
  },
  {
   "cell_type": "code",
   "execution_count": 5,
   "outputs": [
    {
     "name": "stdout",
     "output_type": "stream",
     "text": [
      "<class 'pandas.core.frame.DataFrame'>\n",
      "RangeIndex: 46 entries, 0 to 45\n",
      "Data columns (total 9 columns):\n",
      " #   Column          Non-Null Count  Dtype  \n",
      "---  ------          --------------  -----  \n",
      " 0   name            46 non-null     object \n",
      " 1   url             46 non-null     object \n",
      " 2   review_count    46 non-null     int64  \n",
      " 3   review_stars    46 non-null     object \n",
      " 4   added_date      46 non-null     object \n",
      " 5   availability    10 non-null     object \n",
      " 6   price           34 non-null     float64\n",
      " 7   delivery_price  5 non-null      float64\n",
      " 8   sellers_price   34 non-null     float64\n",
      "dtypes: float64(3), int64(1), object(5)\n",
      "memory usage: 3.4+ KB\n"
     ]
    },
    {
     "data": {
      "text/plain": "       review_count       price  delivery_price  sellers_price\ncount     46.000000   34.000000        5.000000      34.000000\nmean     214.543478  264.319118       20.128000     311.685294\nstd      345.255185  123.494667        4.095012     231.335654\nmin        1.000000   84.800000       14.740000      74.900000\n25%       30.750000  177.245000       17.580000     169.900000\n50%       73.500000  249.395000       20.120000     248.990000\n75%      221.500000  344.597500       24.100000     353.717500\nmax     1397.000000  518.320000       24.100000    1199.000000",
      "text/html": "<div>\n<style scoped>\n    .dataframe tbody tr th:only-of-type {\n        vertical-align: middle;\n    }\n\n    .dataframe tbody tr th {\n        vertical-align: top;\n    }\n\n    .dataframe thead th {\n        text-align: right;\n    }\n</style>\n<table border=\"1\" class=\"dataframe\">\n  <thead>\n    <tr style=\"text-align: right;\">\n      <th></th>\n      <th>review_count</th>\n      <th>price</th>\n      <th>delivery_price</th>\n      <th>sellers_price</th>\n    </tr>\n  </thead>\n  <tbody>\n    <tr>\n      <th>count</th>\n      <td>46.000000</td>\n      <td>34.000000</td>\n      <td>5.000000</td>\n      <td>34.000000</td>\n    </tr>\n    <tr>\n      <th>mean</th>\n      <td>214.543478</td>\n      <td>264.319118</td>\n      <td>20.128000</td>\n      <td>311.685294</td>\n    </tr>\n    <tr>\n      <th>std</th>\n      <td>345.255185</td>\n      <td>123.494667</td>\n      <td>4.095012</td>\n      <td>231.335654</td>\n    </tr>\n    <tr>\n      <th>min</th>\n      <td>1.000000</td>\n      <td>84.800000</td>\n      <td>14.740000</td>\n      <td>74.900000</td>\n    </tr>\n    <tr>\n      <th>25%</th>\n      <td>30.750000</td>\n      <td>177.245000</td>\n      <td>17.580000</td>\n      <td>169.900000</td>\n    </tr>\n    <tr>\n      <th>50%</th>\n      <td>73.500000</td>\n      <td>249.395000</td>\n      <td>20.120000</td>\n      <td>248.990000</td>\n    </tr>\n    <tr>\n      <th>75%</th>\n      <td>221.500000</td>\n      <td>344.597500</td>\n      <td>24.100000</td>\n      <td>353.717500</td>\n    </tr>\n    <tr>\n      <th>max</th>\n      <td>1397.000000</td>\n      <td>518.320000</td>\n      <td>24.100000</td>\n      <td>1199.000000</td>\n    </tr>\n  </tbody>\n</table>\n</div>"
     },
     "execution_count": 5,
     "metadata": {},
     "output_type": "execute_result"
    }
   ],
   "source": [
    "df.info()\n",
    "df.describe()"
   ],
   "metadata": {
    "collapsed": false,
    "pycharm": {
     "name": "#%%\n"
    }
   }
  }
 ],
 "metadata": {
  "kernelspec": {
   "display_name": "Python 3",
   "language": "python",
   "name": "python3"
  },
  "language_info": {
   "codemirror_mode": {
    "name": "ipython",
    "version": 2
   },
   "file_extension": ".py",
   "mimetype": "text/x-python",
   "name": "python",
   "nbconvert_exporter": "python",
   "pygments_lexer": "ipython2",
   "version": "2.7.6"
  }
 },
 "nbformat": 4,
 "nbformat_minor": 0
}